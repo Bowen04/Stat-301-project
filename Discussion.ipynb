{
 "cells": [
  {
   "cell_type": "markdown",
   "id": "4715faac-cd9a-43e6-b968-55ac7d8f2952",
   "metadata": {},
   "source": [
    "#### Summary of findings\n",
    "The R-squared value indicates the proportion of the variance in the dependent variable (salary_in_usd) that is predictable from the independent variables. In this context, the R-squared value of 0.4847671 for Ridge Regression means that approximately 48.48% of the variance in salaries can be explained by the predictors used in the model. This is significantly higher than the R-squared values for both the original and selection models, which were 27.97% and 31.18%, respectively.\n",
    "\n",
    "The higher R-squared in Ridge Regression suggests that the model has improved its ability to explain the variability in the data by effectively balancing the trade-off between bias and variance, reducing the impact of less relevant or noisy features.\n",
    "\n",
    "#### Possible Improvements\n",
    "Consider more complex models that are non-linear to build the predictive model since relationships between predictors that may not be captured by the linear model."
   ]
  },
  {
   "cell_type": "code",
   "execution_count": null,
   "id": "2de4e10a-3c34-4943-a139-53a020fcffcd",
   "metadata": {},
   "outputs": [],
   "source": []
  }
 ],
 "metadata": {
  "kernelspec": {
   "display_name": "R",
   "language": "R",
   "name": "ir"
  },
  "language_info": {
   "codemirror_mode": "r",
   "file_extension": ".r",
   "mimetype": "text/x-r-source",
   "name": "R",
   "pygments_lexer": "r",
   "version": "4.2.3"
  }
 },
 "nbformat": 4,
 "nbformat_minor": 5
}
