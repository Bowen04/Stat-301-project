{
 "cells": [
  {
   "cell_type": "markdown",
   "id": "49b818f8-730d-450f-8c8e-cc0bf1a3d07f",
   "metadata": {},
   "source": [
    "The dataset we will be exploring in this project is from https://www.kaggle.com/datasets/ruchi798/data-science-job-salaries/data , which contains data on 607 different employees from various companies in the data science field. Each employee is assigned 11 different variables, which are the following:"
   ]
  },
  {
   "cell_type": "markdown",
   "id": "63eb0d8a-ef03-4721-a461-850be9e94ae4",
   "metadata": {},
   "source": [
    "    1. work_year: categorical variable that describes the year that the data scientist was paid, this value can be 2020, 2021, or 2022.\n",
    "    \n",
    "    2. experience_level: ordinal categorical variable which describes experience levels. This can contain the following possible values: EN (Entry-level/Junior), MI (Mid-level/intermediate), SE (Senior-level/expert), EX (Executive-level/director)\n",
    "    \n",
    "    3. employment_type: categorical variable describing type of employment, with possible values being PT (part-time), FT (full-time), CT (contract), FL (freelance).\n",
    "    \n",
    "    4. job_title: categorical variable describing the role of the data scientist for work in that year.\n",
    "    \n",
    "    5. salary: discrete variable describing the amount of money paid in the currency type.\n",
    "    \n",
    "    6. salary_currency: categorical variable describing what currency the salary was paid in. This can take on the following values: USD, CAD, EUR, JPY, MXN, CNY, PLN, INR, DKK, GBP, SGD, and HUF.\n",
    "    \n",
    "    7. salary_in_usd: discrete variable which describes the data scientist's salary converted to USD. The exchange rate which the salary is converted by is from the year the data scientist was paid.\n",
    "    \n",
    "    8. employee_residence: categorical variable describing an employee's country of residence given as an ISO 3166 work code.\n",
    "    \n",
    "    9. remote_ratio: ordinal categorical variable describing amount of work done remotely. Employees are assigned numerical values depending on the amount of work done remotely, which is 0 for no remote work (less than 20%), 50 for partial remote work, and 100 for full remote work (more than 80%).\n",
    "\n",
    "    10. company_location: categorical variable describing country of employee's main office or contracting branch, given as an ISO 3166 country code\n",
    "    \n",
    "    11. company_size: categorical variable describing average number of employees working for company that year. Each employee is given a letter correlating to the size of the company, where S is less than 50 employees, M is 50 to 250 employees, and L is for 250 or more employees."
   ]
  },
  {
   "cell_type": "markdown",
   "id": "7c4569ad-cf69-4acd-b512-3f4170d803ef",
   "metadata": {},
   "source": [
    "For this project we will be answering the following question: How does the experience level and remote work ratio impact an employee's salary (USD) in data science? \n",
    "\n",
    "Existing academic literature has shown trends where salary increases as an employees experience level goes up. This has been observed in the marketing industry, where a study was conducted on what affects a marketer's salary. They found that jobs requiring no industry experience paid $4,342 USD less than a job that requires some industry experience (Schlee and Karns, 2017). Additionally, the effect of experience level on salary has been explored within the data science field as well. In a study conducted by Tee Zhen Quan and Mafas Raheem, they created a predictive model based on data science salaries and found that the salaries of employees increased with promotion to higher positions (Quan and Raheem, 2023). As for the ratio of remote work employees have however, there does not appear to be an association between the remote ratio and salary. A study conducted on the shift towards remote work in data science from 2020-2022 found that there was not an association between salary and remote ratio, but that there was an association between the experience level and remote ratio (Abrudan et al. 2022). Based off the studies listed above, we should find that salary is associated with the experience level of an employee in a positive relationship. Remote ratio should have no correlation with salary, but may act as a covariate of experience level."
   ]
  },
  {
   "cell_type": "markdown",
   "id": "b1a6250a-ec85-4adf-b878-e0db004ec4d2",
   "metadata": {},
   "source": [
    "## References\n",
    "\n",
    "ABRUDAN, L. Data Science Labor Market Analysis: Understanding the Shift towards Remote and Hybrid Work. Proceedings of the INTERNATIONAL MANAGEMENT CONFERENCE 2022, 16 (1), 727–738. https://doi.org/10.24818/IMC/2022/04.15.\n",
    "\n",
    "Bhatia, R. Data Science Job Salaries. www.kaggle.com. https://www.kaggle.com/datasets/ruchi798/data-science-job-salaries/data (accessed 2024-08-03).\n",
    "\n",
    "Quan, Tee Zhen, and Mafas Raheem. “Human resource analytics on data science employment based on specialized skill sets with salary prediction.” International Journal of Data Science, vol. 4, no. 1, 20 May 2023, pp. 40–59, https://doi.org/10.18517/ijods.4.1.40-59.2023. \n",
    "\n",
    "Schlee, R. P., & Karns, G. L. (2017). Job Requirements for Marketing Graduates: Are There Differences in the Knowledge, Skills, and Personal Attributes Needed for Different Salary Levels? Journal of Marketing Education, 39(2), 69-81. https://doi.org/10.1177/0273475317712765"
   ]
  }
 ],
 "metadata": {
  "kernelspec": {
   "display_name": "R",
   "language": "R",
   "name": "ir"
  },
  "language_info": {
   "codemirror_mode": "r",
   "file_extension": ".r",
   "mimetype": "text/x-r-source",
   "name": "R",
   "pygments_lexer": "r",
   "version": "4.2.3"
  }
 },
 "nbformat": 4,
 "nbformat_minor": 5
}
